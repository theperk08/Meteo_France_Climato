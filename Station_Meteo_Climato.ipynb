{
 "cells": [
  {
   "cell_type": "code",
   "execution_count": 2,
   "id": "447d4e77-f901-4979-9baa-b04d83f094fd",
   "metadata": {},
   "outputs": [],
   "source": [
    "import os\n",
    "import pandas as pd\n",
    "import json\n",
    "import requests\n",
    "import re"
   ]
  },
  {
   "cell_type": "markdown",
   "id": "0369a7e5-9921-45c8-882f-3dfe3edb6a8f",
   "metadata": {},
   "source": [
    "# PARAMETRES"
   ]
  },
  {
   "cell_type": "code",
   "execution_count": 3,
   "id": "659d4633-8213-45d7-ab83-599cb647a552",
   "metadata": {},
   "outputs": [],
   "source": [
    "dir_path = r'D:\\DATA_ANALYSE\\Meteo_France\\MONTH' # YOUR_DIR_PATH\n",
    "dep = ['56'] # list of department numbers \n",
    "option = None # one of the options file for the Daily datasets : 'RR-T-Vent' or 'autres-parametres', None if you want all\n",
    "\n",
    "station_name = 'LE FAOUET' # extract by station name if you know it exactly, else None and enter the station_id\n",
    "station_id = 56057001 # extract by station id if you know it, else None and enter the exact station_name\n",
    "\n",
    "data_freq = 'MONTH' # one of the options : '6MIN', 'HOUR', 'DAY', 'MONTH', 'DECA', 'DECAGRO'\n"
   ]
  },
  {
   "cell_type": "markdown",
   "id": "e9f661eb-7871-4051-a246-ae1c4d038553",
   "metadata": {},
   "source": [
    "# Téléchargement - Download"
   ]
  },
  {
   "cell_type": "code",
   "execution_count": 4,
   "id": "d6879440-910d-4839-90fe-6352d5a67bb3",
   "metadata": {},
   "outputs": [],
   "source": [
    "data_type = {'6MIN' : '6569ad61106d1679c93cdf77/',\n",
    "             'HOUR' : '6569b4473bedf2e7abad3b72/',\n",
    "             'DAY' : '6569b51ae64326786e4e8e1a/',\n",
    "             'MONTH' : '6569b3d7d193b4daf2b43edc/',\n",
    "             'DECA' : '6569b4a48a4161faec6b2779/',\n",
    "             'DECAGRO' : '6569af36ba0c3d2f9d4bf98c/'}"
   ]
  },
  {
   "cell_type": "code",
   "execution_count": 5,
   "id": "b5f4b51f-74fe-4e82-a440-5c9d50b0cfc8",
   "metadata": {},
   "outputs": [],
   "source": [
    "# general link of the datasets\n",
    "url = 'https://www.data.gouv.fr/api/2/datasets/' + data_type[data_freq]"
   ]
  },
  {
   "cell_type": "code",
   "execution_count": 6,
   "id": "73926ae1-fbbe-4101-a634-3a2dea058418",
   "metadata": {},
   "outputs": [
    {
     "data": {
      "text/plain": [
       "<Response [200]>"
      ]
     },
     "execution_count": 6,
     "metadata": {},
     "output_type": "execute_result"
    }
   ],
   "source": [
    "response = requests.get(url)\n",
    "response"
   ]
  },
  {
   "cell_type": "code",
   "execution_count": 7,
   "id": "4312bffe-ef30-4c31-87dc-82cfebdd7851",
   "metadata": {},
   "outputs": [
    {
     "data": {
      "text/plain": [
       "315"
      ]
     },
     "execution_count": 7,
     "metadata": {},
     "output_type": "execute_result"
    }
   ],
   "source": [
    "# finding how many pages for all datasets\n",
    "nb_pages = json.loads(response.text)['resources']['total']\n",
    "nb_pages"
   ]
  },
  {
   "cell_type": "code",
   "execution_count": 8,
   "id": "25eea32f-60d9-4b5a-957a-5bcaec79ca8e",
   "metadata": {},
   "outputs": [],
   "source": [
    "url_dep = url + f'/resources/?page=1&page_size={nb_pages}&type=main'"
   ]
  },
  {
   "cell_type": "code",
   "execution_count": 9,
   "id": "34e6ae0e-51e6-4bc2-ac74-c0da6e33c954",
   "metadata": {},
   "outputs": [],
   "source": [
    "response = requests.get(url_dep)\n",
    "data = response.json()"
   ]
  },
  {
   "cell_type": "code",
   "execution_count": 11,
   "id": "f57a7190-a0f6-484b-9055-d31752ffcf48",
   "metadata": {},
   "outputs": [
    {
     "name": "stdout",
     "output_type": "stream",
     "text": [
      "3  file(s) downloaded\n"
     ]
    }
   ],
   "source": [
    "# grab all the page to find the department datasets\n",
    "compte = 0\n",
    "for k in range(len(data['data'])):\n",
    "    titre = data['data'][k]['title']\n",
    "    m=re.search('departement_([0-9]{2,3})_', titre)\n",
    "    if m.group(1) in dep and (option is None or (option is not None and option in titre)):        \n",
    "        url1 = data['data'][k]['url']\n",
    "        format = data['data'][k]['format']\n",
    "        resp = requests.get(url1)\n",
    "        if resp.status_code == 200:\n",
    "            with open(os.path.join(dir_path, titre + '.' + format), 'wb') as file:\n",
    "                file.write(resp.content)  \n",
    "                compte += 1\n",
    "        else:\n",
    "            print('problem with ', titre)\n",
    "print(compte, ' file(s) downloaded')\n",
    "            "
   ]
  },
  {
   "cell_type": "markdown",
   "id": "13bfed07-94a2-40da-bbc6-26408fd07338",
   "metadata": {},
   "source": [
    "# Extraction données de la station"
   ]
  },
  {
   "cell_type": "code",
   "execution_count": 12,
   "id": "d78eb6d2-dfe1-482d-a087-ec6adc334d8b",
   "metadata": {},
   "outputs": [
    {
     "name": "stdout",
     "output_type": "stream",
     "text": [
      "['MENS_departement_56_periode_1871-1949.csv.gz', 'MENS_departement_56_periode_1950-2022.csv.gz', 'MENS_departement_56_periode_2023-2024.csv.gz']\n"
     ]
    }
   ],
   "source": [
    "# list the files of the department(s)\n",
    "liste_file = []\n",
    "for file_path in os.listdir(dir_path):\n",
    "    # check if current file_path is a file\n",
    "    if os.path.isfile(os.path.join(dir_path, file_path)):\n",
    "        # add filename to list\n",
    "        liste_file.append(file_path)\n",
    "\n",
    "data_files = []\n",
    "for file_n in liste_file:\n",
    "    m=re.search('departement_([0-9]{2,3})_', file_n)\n",
    "    if m.group(1) in dep and (option is None or (option is not None and option in file_n)): \n",
    "        data_files.append(file_n)\n",
    "\n",
    "print(data_files)"
   ]
  },
  {
   "cell_type": "markdown",
   "id": "07b0607c-50b3-46f3-a08d-67451abe8f50",
   "metadata": {},
   "source": [
    "## OPTION 1 : dataset de toutes les stations (et de tous les départements téléchargés)"
   ]
  },
  {
   "cell_type": "code",
   "execution_count": 13,
   "id": "815767c9-117b-4b59-989f-34e1e8632d35",
   "metadata": {},
   "outputs": [
    {
     "data": {
      "text/html": [
       "<div>\n",
       "<style scoped>\n",
       "    .dataframe tbody tr th:only-of-type {\n",
       "        vertical-align: middle;\n",
       "    }\n",
       "\n",
       "    .dataframe tbody tr th {\n",
       "        vertical-align: top;\n",
       "    }\n",
       "\n",
       "    .dataframe thead th {\n",
       "        text-align: right;\n",
       "    }\n",
       "</style>\n",
       "<table border=\"1\" class=\"dataframe\">\n",
       "  <thead>\n",
       "    <tr style=\"text-align: right;\">\n",
       "      <th></th>\n",
       "      <th>NUM_POSTE</th>\n",
       "      <th>NOM_USUEL</th>\n",
       "      <th>LAT</th>\n",
       "      <th>LON</th>\n",
       "      <th>ALTI</th>\n",
       "      <th>AAAAMM</th>\n",
       "      <th>RR</th>\n",
       "      <th>QRR</th>\n",
       "      <th>NBRR</th>\n",
       "      <th>RR_ME</th>\n",
       "      <th>...</th>\n",
       "      <th>QNEIGETOTM</th>\n",
       "      <th>NEIGETOTAB</th>\n",
       "      <th>QNEIGETOTAB</th>\n",
       "      <th>NEIGETOTABDAT</th>\n",
       "      <th>NBJNEIGETOT1</th>\n",
       "      <th>NBJNEIGETOT10</th>\n",
       "      <th>NBJNEIGETOT30</th>\n",
       "      <th>NBJGREL</th>\n",
       "      <th>NBJORAG</th>\n",
       "      <th>NBJBROU</th>\n",
       "    </tr>\n",
       "  </thead>\n",
       "  <tbody>\n",
       "    <tr>\n",
       "      <th>0</th>\n",
       "      <td>56005001</td>\n",
       "      <td>ARZON PORT NAVALO</td>\n",
       "      <td>47.55</td>\n",
       "      <td>-2.893333</td>\n",
       "      <td>16</td>\n",
       "      <td>187601</td>\n",
       "      <td>NaN</td>\n",
       "      <td>NaN</td>\n",
       "      <td>NaN</td>\n",
       "      <td>10.0</td>\n",
       "      <td>...</td>\n",
       "      <td>NaN</td>\n",
       "      <td>NaN</td>\n",
       "      <td>NaN</td>\n",
       "      <td>NaN</td>\n",
       "      <td>NaN</td>\n",
       "      <td>NaN</td>\n",
       "      <td>NaN</td>\n",
       "      <td>NaN</td>\n",
       "      <td>NaN</td>\n",
       "      <td>NaN</td>\n",
       "    </tr>\n",
       "    <tr>\n",
       "      <th>1</th>\n",
       "      <td>56005001</td>\n",
       "      <td>ARZON PORT NAVALO</td>\n",
       "      <td>47.55</td>\n",
       "      <td>-2.893333</td>\n",
       "      <td>16</td>\n",
       "      <td>187602</td>\n",
       "      <td>NaN</td>\n",
       "      <td>NaN</td>\n",
       "      <td>NaN</td>\n",
       "      <td>46.0</td>\n",
       "      <td>...</td>\n",
       "      <td>NaN</td>\n",
       "      <td>NaN</td>\n",
       "      <td>NaN</td>\n",
       "      <td>NaN</td>\n",
       "      <td>NaN</td>\n",
       "      <td>NaN</td>\n",
       "      <td>NaN</td>\n",
       "      <td>NaN</td>\n",
       "      <td>NaN</td>\n",
       "      <td>NaN</td>\n",
       "    </tr>\n",
       "    <tr>\n",
       "      <th>2</th>\n",
       "      <td>56005001</td>\n",
       "      <td>ARZON PORT NAVALO</td>\n",
       "      <td>47.55</td>\n",
       "      <td>-2.893333</td>\n",
       "      <td>16</td>\n",
       "      <td>187603</td>\n",
       "      <td>NaN</td>\n",
       "      <td>NaN</td>\n",
       "      <td>NaN</td>\n",
       "      <td>90.0</td>\n",
       "      <td>...</td>\n",
       "      <td>NaN</td>\n",
       "      <td>NaN</td>\n",
       "      <td>NaN</td>\n",
       "      <td>NaN</td>\n",
       "      <td>NaN</td>\n",
       "      <td>NaN</td>\n",
       "      <td>NaN</td>\n",
       "      <td>NaN</td>\n",
       "      <td>NaN</td>\n",
       "      <td>NaN</td>\n",
       "    </tr>\n",
       "    <tr>\n",
       "      <th>3</th>\n",
       "      <td>56005001</td>\n",
       "      <td>ARZON PORT NAVALO</td>\n",
       "      <td>47.55</td>\n",
       "      <td>-2.893333</td>\n",
       "      <td>16</td>\n",
       "      <td>187604</td>\n",
       "      <td>NaN</td>\n",
       "      <td>NaN</td>\n",
       "      <td>NaN</td>\n",
       "      <td>27.0</td>\n",
       "      <td>...</td>\n",
       "      <td>NaN</td>\n",
       "      <td>NaN</td>\n",
       "      <td>NaN</td>\n",
       "      <td>NaN</td>\n",
       "      <td>NaN</td>\n",
       "      <td>NaN</td>\n",
       "      <td>NaN</td>\n",
       "      <td>NaN</td>\n",
       "      <td>NaN</td>\n",
       "      <td>NaN</td>\n",
       "    </tr>\n",
       "    <tr>\n",
       "      <th>4</th>\n",
       "      <td>56005001</td>\n",
       "      <td>ARZON PORT NAVALO</td>\n",
       "      <td>47.55</td>\n",
       "      <td>-2.893333</td>\n",
       "      <td>16</td>\n",
       "      <td>187605</td>\n",
       "      <td>NaN</td>\n",
       "      <td>NaN</td>\n",
       "      <td>NaN</td>\n",
       "      <td>6.0</td>\n",
       "      <td>...</td>\n",
       "      <td>NaN</td>\n",
       "      <td>NaN</td>\n",
       "      <td>NaN</td>\n",
       "      <td>NaN</td>\n",
       "      <td>NaN</td>\n",
       "      <td>NaN</td>\n",
       "      <td>NaN</td>\n",
       "      <td>NaN</td>\n",
       "      <td>NaN</td>\n",
       "      <td>NaN</td>\n",
       "    </tr>\n",
       "  </tbody>\n",
       "</table>\n",
       "<p>5 rows × 162 columns</p>\n",
       "</div>"
      ],
      "text/plain": [
       "   NUM_POSTE          NOM_USUEL    LAT       LON  ALTI  AAAAMM  RR  QRR  NBRR  \\\n",
       "0   56005001  ARZON PORT NAVALO  47.55 -2.893333    16  187601 NaN  NaN   NaN   \n",
       "1   56005001  ARZON PORT NAVALO  47.55 -2.893333    16  187602 NaN  NaN   NaN   \n",
       "2   56005001  ARZON PORT NAVALO  47.55 -2.893333    16  187603 NaN  NaN   NaN   \n",
       "3   56005001  ARZON PORT NAVALO  47.55 -2.893333    16  187604 NaN  NaN   NaN   \n",
       "4   56005001  ARZON PORT NAVALO  47.55 -2.893333    16  187605 NaN  NaN   NaN   \n",
       "\n",
       "   RR_ME  ...  QNEIGETOTM   NEIGETOTAB  QNEIGETOTAB  NEIGETOTABDAT  \\\n",
       "0   10.0  ...         NaN          NaN          NaN            NaN   \n",
       "1   46.0  ...         NaN          NaN          NaN            NaN   \n",
       "2   90.0  ...         NaN          NaN          NaN            NaN   \n",
       "3   27.0  ...         NaN          NaN          NaN            NaN   \n",
       "4    6.0  ...         NaN          NaN          NaN            NaN   \n",
       "\n",
       "   NBJNEIGETOT1  NBJNEIGETOT10  NBJNEIGETOT30  NBJGREL  NBJORAG  NBJBROU  \n",
       "0           NaN            NaN            NaN      NaN      NaN      NaN  \n",
       "1           NaN            NaN            NaN      NaN      NaN      NaN  \n",
       "2           NaN            NaN            NaN      NaN      NaN      NaN  \n",
       "3           NaN            NaN            NaN      NaN      NaN      NaN  \n",
       "4           NaN            NaN            NaN      NaN      NaN      NaN  \n",
       "\n",
       "[5 rows x 162 columns]"
      ]
     },
     "execution_count": 13,
     "metadata": {},
     "output_type": "execute_result"
    }
   ],
   "source": [
    "df_all = pd.DataFrame()\n",
    "for file_name in data_files:\n",
    "    df_0 = pd.read_csv(os.path.join(dir_path, file_name), sep = ';')    \n",
    "    df_all = pd.concat([df_all, df_0], ignore_index = True)\n",
    "df_all.head()"
   ]
  },
  {
   "cell_type": "markdown",
   "id": "38d34137-128d-4c9a-87f2-f963dfefe858",
   "metadata": {},
   "source": [
    "**<span style=\"color:red\">df_all</span> is the dataset of all the stations**"
   ]
  },
  {
   "cell_type": "markdown",
   "id": "60ab12a7-379a-4545-8675-f46dc596de54",
   "metadata": {},
   "source": [
    "### SAVE your dataset in a file"
   ]
  },
  {
   "cell_type": "code",
   "execution_count": 14,
   "id": "40c698ef-a580-4de8-bcf4-e409edd1bcf3",
   "metadata": {},
   "outputs": [],
   "source": [
    "file_path = os.path.join(dir_path, 'my_dep.csv')\n",
    "df_all.to_csv(file_path, sep = ';', index = False)"
   ]
  },
  {
   "cell_type": "markdown",
   "id": "db1f5776-4011-4d48-9afa-c52748f3214f",
   "metadata": {},
   "source": [
    "## OPTION 2 : dataset de la station uniquement"
   ]
  },
  {
   "cell_type": "code",
   "execution_count": 15,
   "id": "28306a65-bf42-4c0a-a982-3116c94e2fd1",
   "metadata": {},
   "outputs": [
    {
     "data": {
      "text/html": [
       "<div>\n",
       "<style scoped>\n",
       "    .dataframe tbody tr th:only-of-type {\n",
       "        vertical-align: middle;\n",
       "    }\n",
       "\n",
       "    .dataframe tbody tr th {\n",
       "        vertical-align: top;\n",
       "    }\n",
       "\n",
       "    .dataframe thead th {\n",
       "        text-align: right;\n",
       "    }\n",
       "</style>\n",
       "<table border=\"1\" class=\"dataframe\">\n",
       "  <thead>\n",
       "    <tr style=\"text-align: right;\">\n",
       "      <th></th>\n",
       "      <th>NUM_POSTE</th>\n",
       "      <th>NOM_USUEL</th>\n",
       "      <th>LAT</th>\n",
       "      <th>LON</th>\n",
       "      <th>ALTI</th>\n",
       "      <th>AAAAMM</th>\n",
       "      <th>RR</th>\n",
       "      <th>QRR</th>\n",
       "      <th>NBRR</th>\n",
       "      <th>RR_ME</th>\n",
       "      <th>...</th>\n",
       "      <th>QNEIGETOTM</th>\n",
       "      <th>NEIGETOTAB</th>\n",
       "      <th>QNEIGETOTAB</th>\n",
       "      <th>NEIGETOTABDAT</th>\n",
       "      <th>NBJNEIGETOT1</th>\n",
       "      <th>NBJNEIGETOT10</th>\n",
       "      <th>NBJNEIGETOT30</th>\n",
       "      <th>NBJGREL</th>\n",
       "      <th>NBJORAG</th>\n",
       "      <th>NBJBROU</th>\n",
       "    </tr>\n",
       "  </thead>\n",
       "  <tbody>\n",
       "    <tr>\n",
       "      <th>0</th>\n",
       "      <td>56057001</td>\n",
       "      <td>LE FAOUET</td>\n",
       "      <td>48.033333</td>\n",
       "      <td>-3.5</td>\n",
       "      <td>155</td>\n",
       "      <td>189201</td>\n",
       "      <td>26.0</td>\n",
       "      <td>9.0</td>\n",
       "      <td>31.0</td>\n",
       "      <td>NaN</td>\n",
       "      <td>...</td>\n",
       "      <td>NaN</td>\n",
       "      <td>NaN</td>\n",
       "      <td>NaN</td>\n",
       "      <td>NaN</td>\n",
       "      <td>NaN</td>\n",
       "      <td>NaN</td>\n",
       "      <td>NaN</td>\n",
       "      <td>NaN</td>\n",
       "      <td>NaN</td>\n",
       "      <td>NaN</td>\n",
       "    </tr>\n",
       "    <tr>\n",
       "      <th>1</th>\n",
       "      <td>56057001</td>\n",
       "      <td>LE FAOUET</td>\n",
       "      <td>48.033333</td>\n",
       "      <td>-3.5</td>\n",
       "      <td>155</td>\n",
       "      <td>189202</td>\n",
       "      <td>55.0</td>\n",
       "      <td>9.0</td>\n",
       "      <td>29.0</td>\n",
       "      <td>NaN</td>\n",
       "      <td>...</td>\n",
       "      <td>NaN</td>\n",
       "      <td>NaN</td>\n",
       "      <td>NaN</td>\n",
       "      <td>NaN</td>\n",
       "      <td>NaN</td>\n",
       "      <td>NaN</td>\n",
       "      <td>NaN</td>\n",
       "      <td>NaN</td>\n",
       "      <td>NaN</td>\n",
       "      <td>NaN</td>\n",
       "    </tr>\n",
       "    <tr>\n",
       "      <th>2</th>\n",
       "      <td>56057001</td>\n",
       "      <td>LE FAOUET</td>\n",
       "      <td>48.033333</td>\n",
       "      <td>-3.5</td>\n",
       "      <td>155</td>\n",
       "      <td>189203</td>\n",
       "      <td>17.0</td>\n",
       "      <td>9.0</td>\n",
       "      <td>31.0</td>\n",
       "      <td>NaN</td>\n",
       "      <td>...</td>\n",
       "      <td>NaN</td>\n",
       "      <td>NaN</td>\n",
       "      <td>NaN</td>\n",
       "      <td>NaN</td>\n",
       "      <td>NaN</td>\n",
       "      <td>NaN</td>\n",
       "      <td>NaN</td>\n",
       "      <td>NaN</td>\n",
       "      <td>NaN</td>\n",
       "      <td>NaN</td>\n",
       "    </tr>\n",
       "    <tr>\n",
       "      <th>3</th>\n",
       "      <td>56057001</td>\n",
       "      <td>LE FAOUET</td>\n",
       "      <td>48.033333</td>\n",
       "      <td>-3.5</td>\n",
       "      <td>155</td>\n",
       "      <td>189204</td>\n",
       "      <td>34.0</td>\n",
       "      <td>9.0</td>\n",
       "      <td>30.0</td>\n",
       "      <td>NaN</td>\n",
       "      <td>...</td>\n",
       "      <td>NaN</td>\n",
       "      <td>NaN</td>\n",
       "      <td>NaN</td>\n",
       "      <td>NaN</td>\n",
       "      <td>NaN</td>\n",
       "      <td>NaN</td>\n",
       "      <td>NaN</td>\n",
       "      <td>NaN</td>\n",
       "      <td>NaN</td>\n",
       "      <td>NaN</td>\n",
       "    </tr>\n",
       "    <tr>\n",
       "      <th>4</th>\n",
       "      <td>56057001</td>\n",
       "      <td>LE FAOUET</td>\n",
       "      <td>48.033333</td>\n",
       "      <td>-3.5</td>\n",
       "      <td>155</td>\n",
       "      <td>189205</td>\n",
       "      <td>28.0</td>\n",
       "      <td>9.0</td>\n",
       "      <td>31.0</td>\n",
       "      <td>NaN</td>\n",
       "      <td>...</td>\n",
       "      <td>NaN</td>\n",
       "      <td>NaN</td>\n",
       "      <td>NaN</td>\n",
       "      <td>NaN</td>\n",
       "      <td>NaN</td>\n",
       "      <td>NaN</td>\n",
       "      <td>NaN</td>\n",
       "      <td>NaN</td>\n",
       "      <td>NaN</td>\n",
       "      <td>NaN</td>\n",
       "    </tr>\n",
       "  </tbody>\n",
       "</table>\n",
       "<p>5 rows × 162 columns</p>\n",
       "</div>"
      ],
      "text/plain": [
       "   NUM_POSTE  NOM_USUEL        LAT  LON  ALTI  AAAAMM    RR  QRR  NBRR  RR_ME  \\\n",
       "0   56057001  LE FAOUET  48.033333 -3.5   155  189201  26.0  9.0  31.0    NaN   \n",
       "1   56057001  LE FAOUET  48.033333 -3.5   155  189202  55.0  9.0  29.0    NaN   \n",
       "2   56057001  LE FAOUET  48.033333 -3.5   155  189203  17.0  9.0  31.0    NaN   \n",
       "3   56057001  LE FAOUET  48.033333 -3.5   155  189204  34.0  9.0  30.0    NaN   \n",
       "4   56057001  LE FAOUET  48.033333 -3.5   155  189205  28.0  9.0  31.0    NaN   \n",
       "\n",
       "   ...  QNEIGETOTM   NEIGETOTAB  QNEIGETOTAB  NEIGETOTABDAT  NBJNEIGETOT1  \\\n",
       "0  ...         NaN          NaN          NaN            NaN           NaN   \n",
       "1  ...         NaN          NaN          NaN            NaN           NaN   \n",
       "2  ...         NaN          NaN          NaN            NaN           NaN   \n",
       "3  ...         NaN          NaN          NaN            NaN           NaN   \n",
       "4  ...         NaN          NaN          NaN            NaN           NaN   \n",
       "\n",
       "   NBJNEIGETOT10  NBJNEIGETOT30  NBJGREL  NBJORAG  NBJBROU  \n",
       "0            NaN            NaN      NaN      NaN      NaN  \n",
       "1            NaN            NaN      NaN      NaN      NaN  \n",
       "2            NaN            NaN      NaN      NaN      NaN  \n",
       "3            NaN            NaN      NaN      NaN      NaN  \n",
       "4            NaN            NaN      NaN      NaN      NaN  \n",
       "\n",
       "[5 rows x 162 columns]"
      ]
     },
     "execution_count": 15,
     "metadata": {},
     "output_type": "execute_result"
    }
   ],
   "source": [
    "df_station = pd.DataFrame()\n",
    "for file_name in data_files:\n",
    "    df0 = pd.read_csv(os.path.join(dir_path, file_name), sep = ';')\n",
    "    if station_id is not None:\n",
    "        df0 = df0[df0['NUM_POSTE'] == station_id]\n",
    "    else:\n",
    "        df0 = df0[df0['NOM_USUEL'] == station_name]\n",
    "    df_station = pd.concat([df_station, df0], ignore_index = True)\n",
    "df_station.head()"
   ]
  },
  {
   "cell_type": "markdown",
   "id": "b50a2f68-16f9-46a1-b5da-2b9e32923a60",
   "metadata": {},
   "source": [
    "**<span style=\"color:red\">df_station</span> is the dataset of your selected station, enjoy !**"
   ]
  },
  {
   "cell_type": "markdown",
   "id": "434c273a-38f9-469d-8eb1-059f61142b39",
   "metadata": {},
   "source": [
    "### SAVE your dataset in a file"
   ]
  },
  {
   "cell_type": "code",
   "execution_count": 16,
   "id": "bdcd2aac-6e4f-4b5d-a7b1-8ac7f6fc2e6f",
   "metadata": {},
   "outputs": [],
   "source": [
    "file_path = os.path.join(dir_path, 'my_station.csv')\n",
    "df_station.to_csv(file_path, sep = ';', index = False)"
   ]
  },
  {
   "cell_type": "code",
   "execution_count": null,
   "id": "229158e7-5827-4ce9-b13d-61b5905cd5d9",
   "metadata": {},
   "outputs": [],
   "source": []
  }
 ],
 "metadata": {
  "kernelspec": {
   "display_name": "Python 3 (ipykernel)",
   "language": "python",
   "name": "python3"
  },
  "language_info": {
   "codemirror_mode": {
    "name": "ipython",
    "version": 3
   },
   "file_extension": ".py",
   "mimetype": "text/x-python",
   "name": "python",
   "nbconvert_exporter": "python",
   "pygments_lexer": "ipython3",
   "version": "3.10.13"
  }
 },
 "nbformat": 4,
 "nbformat_minor": 5
}
